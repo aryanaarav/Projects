{
 "cells": [
  {
   "cell_type": "code",
   "execution_count": 1,
   "id": "c16c95ed",
   "metadata": {},
   "outputs": [],
   "source": [
    "from numpy import pi\n",
    "from modsim_local import *"
   ]
  },
  {
   "cell_type": "code",
   "execution_count": 2,
   "id": "30d3684c",
   "metadata": {},
   "outputs": [],
   "source": [
    "radius_disk = 0.5     # m\n",
    "mass_disk = 7 # kg\n",
    "radius_pot= 0.4 # m\n",
    "mass_pot = 0.3 # kg\n",
    "force = 2 # N\n",
    "\n",
    "theta_push = 0.5 * pi # rad\n",
    "theta_test = 1.5 * pi # rad\n",
    "theta_target = pi"
   ]
  },
  {
   "cell_type": "code",
   "execution_count": 3,
   "id": "ee53dae2",
   "metadata": {},
   "outputs": [],
   "source": [
    "I_disk = mass_disk * radius_disk**2 / 2 # kg*m^2\n",
    "I_pot = mass_pot * radius_pot**2 / 2 # kg*m^2\n",
    "I_total = I_disk + I_pot # kg*m^2"
   ]
  },
  {
   "cell_type": "code",
   "execution_count": 4,
   "id": "90a378d2",
   "metadata": {},
   "outputs": [],
   "source": [
    "torque_friction = 0.3 # N*m"
   ]
  },
  {
   "cell_type": "code",
   "execution_count": 5,
   "id": "b3a993a2",
   "metadata": {},
   "outputs": [],
   "source": [
    "init = State(theta=0, omega = 0)"
   ]
  },
  {
   "cell_type": "code",
   "execution_count": 6,
   "id": "be5fcba6",
   "metadata": {},
   "outputs": [],
   "source": [
    "system = System(init = init,\n",
    "                torque_friction = torque_friction,\n",
    "                I_total = I_total,\n",
    "                radius_disk = radius_disk,\n",
    "                mass_disk = mass_disk,\n",
    "                radius_pot = radius_pot,\n",
    "                mass_pot = mass_pot,\n",
    "                force = force,\n",
    "                theta_push = theta_push,\n",
    "                theta_test = theta_test,\n",
    "                theta_target = theta_target,\n",
    "                t_end = 20)"
   ]
  },
  {
   "cell_type": "code",
   "execution_count": 7,
   "id": "f4dcff51",
   "metadata": {},
   "outputs": [],
   "source": [
    "def slope_func(t, state, system):\n",
    "    theta, omega = state\n",
    "    force = system.force\n",
    "    torque_friction = system.torque_friction\n",
    "    \n",
    "    torque = force*radius_disk - torque_friction\n",
    "    alpha = torque / I_total\n",
    "    dtheta = omega\n",
    "    domega = alpha\n",
    "    return dtheta, domega"
   ]
  },
  {
   "cell_type": "code",
   "execution_count": 8,
   "id": "85505adc",
   "metadata": {},
   "outputs": [
    {
     "data": {
      "text/plain": [
       "(0, 0.778642936596218)"
      ]
     },
     "execution_count": 8,
     "metadata": {},
     "output_type": "execute_result"
    }
   ],
   "source": [
    "slope_func(0, system.init, system)"
   ]
  },
  {
   "cell_type": "code",
   "execution_count": 9,
   "id": "eee95e94",
   "metadata": {},
   "outputs": [],
   "source": [
    "def event_func1(t, state, system):\n",
    "    theta, omega = state\n",
    "    return theta - theta_push"
   ]
  },
  {
   "cell_type": "code",
   "execution_count": 10,
   "id": "3c2681bb",
   "metadata": {},
   "outputs": [
    {
     "data": {
      "text/plain": [
       "-1.5707963267948966"
      ]
     },
     "execution_count": 10,
     "metadata": {},
     "output_type": "execute_result"
    }
   ],
   "source": [
    "event_func1(0, system.init, system)"
   ]
  },
  {
   "cell_type": "code",
   "execution_count": 11,
   "id": "0549a860",
   "metadata": {},
   "outputs": [
    {
     "data": {
      "text/plain": [
       "'A termination event occurred.'"
      ]
     },
     "execution_count": 11,
     "metadata": {},
     "output_type": "execute_result"
    }
   ],
   "source": [
    "results1, details1 = run_solve_ivp(system, slope_func,\n",
    "                                   events=event_func1)\n",
    "details1.message"
   ]
  },
  {
   "cell_type": "code",
   "execution_count": 12,
   "id": "9475330f",
   "metadata": {},
   "outputs": [
    {
     "data": {
      "text/html": [
       "<div>\n",
       "<style scoped>\n",
       "    .dataframe tbody tr th:only-of-type {\n",
       "        vertical-align: middle;\n",
       "    }\n",
       "\n",
       "    .dataframe tbody tr th {\n",
       "        vertical-align: top;\n",
       "    }\n",
       "\n",
       "    .dataframe thead th {\n",
       "        text-align: right;\n",
       "    }\n",
       "</style>\n",
       "<table border=\"1\" class=\"dataframe\">\n",
       "  <thead>\n",
       "    <tr style=\"text-align: right;\">\n",
       "      <th></th>\n",
       "      <th>theta</th>\n",
       "      <th>omega</th>\n",
       "    </tr>\n",
       "  </thead>\n",
       "  <tbody>\n",
       "    <tr>\n",
       "      <th>1.928311</th>\n",
       "      <td>1.447646</td>\n",
       "      <td>1.501465</td>\n",
       "    </tr>\n",
       "    <tr>\n",
       "      <th>1.948397</th>\n",
       "      <td>1.477962</td>\n",
       "      <td>1.517106</td>\n",
       "    </tr>\n",
       "    <tr>\n",
       "      <th>1.968484</th>\n",
       "      <td>1.508593</td>\n",
       "      <td>1.532746</td>\n",
       "    </tr>\n",
       "    <tr>\n",
       "      <th>1.988570</th>\n",
       "      <td>1.539537</td>\n",
       "      <td>1.548386</td>\n",
       "    </tr>\n",
       "    <tr>\n",
       "      <th>2.008657</th>\n",
       "      <td>1.570796</td>\n",
       "      <td>1.564027</td>\n",
       "    </tr>\n",
       "  </tbody>\n",
       "</table>\n",
       "</div>"
      ],
      "text/plain": [
       "             theta     omega\n",
       "1.928311  1.447646  1.501465\n",
       "1.948397  1.477962  1.517106\n",
       "1.968484  1.508593  1.532746\n",
       "1.988570  1.539537  1.548386\n",
       "2.008657  1.570796  1.564027"
      ]
     },
     "execution_count": 12,
     "metadata": {},
     "output_type": "execute_result"
    }
   ],
   "source": [
    "results1.tail()"
   ]
  },
  {
   "cell_type": "code",
   "execution_count": 13,
   "id": "7a799734",
   "metadata": {},
   "outputs": [],
   "source": [
    "t_2 = results1.index[-1]\n",
    "init2 = results1.iloc[-1]"
   ]
  },
  {
   "cell_type": "code",
   "execution_count": 14,
   "id": "4c994950",
   "metadata": {},
   "outputs": [],
   "source": [
    "system2 = system.set(init = init2, force = 0, t_0 =  t_2)"
   ]
  },
  {
   "cell_type": "code",
   "execution_count": 15,
   "id": "52d8c45b",
   "metadata": {},
   "outputs": [],
   "source": [
    "def event_func2(t, state, system):\n",
    "    theta, omega = state\n",
    "    return omega"
   ]
  },
  {
   "cell_type": "code",
   "execution_count": 16,
   "id": "b6f84ebd",
   "metadata": {},
   "outputs": [
    {
     "data": {
      "text/plain": [
       "1.564026511725507"
      ]
     },
     "execution_count": 16,
     "metadata": {},
     "output_type": "execute_result"
    }
   ],
   "source": [
    "event_func2(system2.t_0, system2.init, system2)"
   ]
  },
  {
   "cell_type": "code",
   "execution_count": 17,
   "id": "546b7c38",
   "metadata": {},
   "outputs": [
    {
     "data": {
      "text/plain": [
       "'A termination event occurred.'"
      ]
     },
     "execution_count": 17,
     "metadata": {},
     "output_type": "execute_result"
    }
   ],
   "source": [
    "results2, details2 = run_solve_ivp(system2, slope_func,\n",
    "                                   events=event_func2)\n",
    "details2.message"
   ]
  },
  {
   "cell_type": "code",
   "execution_count": 18,
   "id": "4f3b57b9",
   "metadata": {},
   "outputs": [],
   "source": [
    "results = pd.concat([results1, results2])"
   ]
  },
  {
   "cell_type": "code",
   "execution_count": 19,
   "id": "14f7a6f0",
   "metadata": {},
   "outputs": [
    {
     "data": {
      "text/html": [
       "<div>\n",
       "<style scoped>\n",
       "    .dataframe tbody tr th:only-of-type {\n",
       "        vertical-align: middle;\n",
       "    }\n",
       "\n",
       "    .dataframe tbody tr th {\n",
       "        vertical-align: top;\n",
       "    }\n",
       "\n",
       "    .dataframe thead th {\n",
       "        text-align: right;\n",
       "    }\n",
       "</style>\n",
       "<table border=\"1\" class=\"dataframe\">\n",
       "  <thead>\n",
       "    <tr style=\"text-align: right;\">\n",
       "      <th></th>\n",
       "      <th>theta</th>\n",
       "      <th>omega</th>\n",
       "    </tr>\n",
       "  </thead>\n",
       "  <tbody>\n",
       "    <tr>\n",
       "      <th>6.508048</th>\n",
       "      <td>5.230123</td>\n",
       "      <td>6.256106e-02</td>\n",
       "    </tr>\n",
       "    <tr>\n",
       "      <th>6.554917</th>\n",
       "      <td>5.232689</td>\n",
       "      <td>4.692080e-02</td>\n",
       "    </tr>\n",
       "    <tr>\n",
       "      <th>6.601786</th>\n",
       "      <td>5.234522</td>\n",
       "      <td>3.128053e-02</td>\n",
       "    </tr>\n",
       "    <tr>\n",
       "      <th>6.648654</th>\n",
       "      <td>5.235621</td>\n",
       "      <td>1.564027e-02</td>\n",
       "    </tr>\n",
       "    <tr>\n",
       "      <th>6.695523</th>\n",
       "      <td>5.235988</td>\n",
       "      <td>2.220446e-16</td>\n",
       "    </tr>\n",
       "  </tbody>\n",
       "</table>\n",
       "</div>"
      ],
      "text/plain": [
       "             theta         omega\n",
       "6.508048  5.230123  6.256106e-02\n",
       "6.554917  5.232689  4.692080e-02\n",
       "6.601786  5.234522  3.128053e-02\n",
       "6.648654  5.235621  1.564027e-02\n",
       "6.695523  5.235988  2.220446e-16"
      ]
     },
     "execution_count": 19,
     "metadata": {},
     "output_type": "execute_result"
    }
   ],
   "source": [
    "results.tail()"
   ]
  },
  {
   "cell_type": "code",
   "execution_count": 20,
   "id": "873aeb64",
   "metadata": {},
   "outputs": [
    {
     "data": {
      "image/png": "[encoded data removed]",
      "text/plain": [
       "<Figure size 450x300 with 1 Axes>"
      ]
     },
     "metadata": {},
     "output_type": "display_data"
    }
   ],
   "source": [
    "results.theta.plot(label='theta')\n",
    "decorate(xlabel='Time (s)',\n",
    "             ylabel='Angle (rad)')"
   ]
  },
  {
   "cell_type": "code",
   "execution_count": 21,
   "id": "1dee1f84",
   "metadata": {},
   "outputs": [
    {
     "data": {
      "image/png": "[encoded data removed]",
      "text/plain": [
       "<Figure size 450x300 with 1 Axes>"
      ]
     },
     "metadata": {},
     "output_type": "display_data"
    }
   ],
   "source": [
    "results.omega.plot(label='omega', color='C1')\n",
    "decorate(xlabel='Time (s)',\n",
    "             ylabel='Angular velocity (rad/s)')"
   ]
  },
  {
   "cell_type": "code",
   "execution_count": 22,
   "id": "92c46296",
   "metadata": {},
   "outputs": [],
   "source": [
    "def run_two_phases(force, torque_friction, system):\n",
    "    # put the specified parameters into the System object\n",
    "    system1 = system.set(force=force, \n",
    "                         torque_friction=torque_friction)\n",
    "\n",
    "    # run phase 1\n",
    "    results1, details1 = run_solve_ivp(system1, slope_func, \n",
    "                                       events=event_func1)\n",
    "\n",
    "    # get the final state from phase 1\n",
    "    t_2 = results1.index[-1]\n",
    "    init2 = results1.iloc[-1]\n",
    "    \n",
    "    # run phase 2\n",
    "    system2 = system1.set(t_0=t_2, init=init2, force=0)\n",
    "    results2, details2 = run_solve_ivp(system2, slope_func, \n",
    "                                       events=event_func2)\n",
    "    \n",
    "    # combine and return the results\n",
    "    results = pd.concat([results1, results2])\n",
    "    return results"
   ]
  },
  {
   "cell_type": "code",
   "execution_count": 23,
   "id": "9615d9e3",
   "metadata": {},
   "outputs": [
    {
     "data": {
      "text/html": [
       "<div>\n",
       "<style scoped>\n",
       "    .dataframe tbody tr th:only-of-type {\n",
       "        vertical-align: middle;\n",
       "    }\n",
       "\n",
       "    .dataframe tbody tr th {\n",
       "        vertical-align: top;\n",
       "    }\n",
       "\n",
       "    .dataframe thead th {\n",
       "        text-align: right;\n",
       "    }\n",
       "</style>\n",
       "<table border=\"1\" class=\"dataframe\">\n",
       "  <thead>\n",
       "    <tr style=\"text-align: right;\">\n",
       "      <th></th>\n",
       "      <th>theta</th>\n",
       "      <th>omega</th>\n",
       "    </tr>\n",
       "  </thead>\n",
       "  <tbody>\n",
       "    <tr>\n",
       "      <th>6.508048</th>\n",
       "      <td>5.230123</td>\n",
       "      <td>6.256106e-02</td>\n",
       "    </tr>\n",
       "    <tr>\n",
       "      <th>6.554917</th>\n",
       "      <td>5.232689</td>\n",
       "      <td>4.692080e-02</td>\n",
       "    </tr>\n",
       "    <tr>\n",
       "      <th>6.601786</th>\n",
       "      <td>5.234522</td>\n",
       "      <td>3.128053e-02</td>\n",
       "    </tr>\n",
       "    <tr>\n",
       "      <th>6.648654</th>\n",
       "      <td>5.235621</td>\n",
       "      <td>1.564027e-02</td>\n",
       "    </tr>\n",
       "    <tr>\n",
       "      <th>6.695523</th>\n",
       "      <td>5.235988</td>\n",
       "      <td>2.220446e-16</td>\n",
       "    </tr>\n",
       "  </tbody>\n",
       "</table>\n",
       "</div>"
      ],
      "text/plain": [
       "             theta         omega\n",
       "6.508048  5.230123  6.256106e-02\n",
       "6.554917  5.232689  4.692080e-02\n",
       "6.601786  5.234522  3.128053e-02\n",
       "6.648654  5.235621  1.564027e-02\n",
       "6.695523  5.235988  2.220446e-16"
      ]
     },
     "execution_count": 23,
     "metadata": {},
     "output_type": "execute_result"
    }
   ],
   "source": [
    "force = 2\n",
    "torque_friction = 0.3\n",
    "results = run_two_phases(force, torque_friction, system)\n",
    "results.tail()"
   ]
  },
  {
   "cell_type": "code",
   "execution_count": 24,
   "id": "43e5e9b6",
   "metadata": {},
   "outputs": [],
   "source": [
    "def error_func1(torque_friction, system):\n",
    "    force = system.force\n",
    "    results = run_two_phases(force, torque_friction, system)\n",
    "    theta_final = results.iloc[-1].theta\n",
    "    print(torque_friction, theta_final)\n",
    "    return theta_final - theta_test"
   ]
  },
  {
   "cell_type": "code",
   "execution_count": 25,
   "id": "7c228bd0",
   "metadata": {},
   "outputs": [
    {
     "name": "stdout",
     "output_type": "stream",
     "text": [
      "0.3 5.235987755982986\n"
     ]
    },
    {
     "data": {
      "text/plain": [
       "0.5235987755982965"
      ]
     },
     "execution_count": 25,
     "metadata": {},
     "output_type": "execute_result"
    }
   ],
   "source": [
    "guess1 = 0.3\n",
    "error_func1(guess1, system)"
   ]
  },
  {
   "cell_type": "code",
   "execution_count": 26,
   "id": "346e828b",
   "metadata": {},
   "outputs": [
    {
     "name": "stdout",
     "output_type": "stream",
     "text": [
      "0.4 3.9269908169872387\n"
     ]
    },
    {
     "data": {
      "text/plain": [
       "-0.7853981633974509"
      ]
     },
     "execution_count": 26,
     "metadata": {},
     "output_type": "execute_result"
    }
   ],
   "source": [
    "guess2 = 0.4\n",
    "error_func1(guess2, system)"
   ]
  },
  {
   "cell_type": "code",
   "execution_count": 27,
   "id": "dde628c1",
   "metadata": {},
   "outputs": [
    {
     "name": "stdout",
     "output_type": "stream",
     "text": [
      "0.3 5.235987755982986\n",
      "0.3 5.235987755982986\n",
      "0.4 3.9269908169872387\n",
      "0.3399999999999998 4.619989196455574\n",
      "0.3339999999999996 4.702983014355983\n",
      "0.33333199999999996 4.712407830016002\n",
      "0.333348666601 4.712172221390802\n"
     ]
    }
   ],
   "source": [
    "res = root_scalar(error_func1, system, bracket=[guess1, guess2])"
   ]
  },
  {
   "cell_type": "code",
   "execution_count": 28,
   "id": "2581b362",
   "metadata": {},
   "outputs": [
    {
     "data": {
      "text/plain": [
       "0.33333199999999996"
      ]
     },
     "execution_count": 28,
     "metadata": {},
     "output_type": "execute_result"
    }
   ],
   "source": [
    "actual_friction = res.root\n",
    "actual_friction"
   ]
  },
  {
   "cell_type": "code",
   "execution_count": 29,
   "id": "a0a95685",
   "metadata": {},
   "outputs": [],
   "source": [
    "from matplotlib.patches import Circle\n",
    "from matplotlib.pyplot import gca, axis\n",
    "\n",
    "def draw_func(t, state):\n",
    "    theta, omega = state\n",
    "    \n",
    "    # draw a circle for the table\n",
    "    circle1 = Circle([0, 0], radius_disk)\n",
    "    gca().add_patch(circle1)\n",
    "    \n",
    "    # draw a circle for the teapot\n",
    "    center = pol2cart(theta, radius_pot)\n",
    "    circle2 = Circle(center, 0.05, color='C1')\n",
    "    gca().add_patch(circle2)\n",
    "\n",
    "    axis('equal')"
   ]
  },
  {
   "cell_type": "code",
   "execution_count": 30,
   "id": "bb71790c",
   "metadata": {},
   "outputs": [
    {
     "data": {
      "image/png": "[encoded data removed]",
      "text/plain": [
       "<Figure size 450x300 with 1 Axes>"
      ]
     },
     "metadata": {},
     "output_type": "display_data"
    }
   ],
   "source": [
    "state = results.iloc[0]\n",
    "draw_func(0, state)"
   ]
  },
  {
   "cell_type": "code",
   "execution_count": null,
   "id": "90f36080",
   "metadata": {},
   "outputs": [],
   "source": []
  }
 ],
 "metadata": {
  "kernelspec": {
   "display_name": "Python 3",
   "language": "python",
   "name": "python3"
  },
  "language_info": {
   "codemirror_mode": {
    "name": "ipython",
    "version": 3
   },
   "file_extension": ".py",
   "mimetype": "text/x-python",
   "name": "python",
   "nbconvert_exporter": "python",
   "pygments_lexer": "ipython3",
   "version": "3.12.4"
  }
 },
 "nbformat": 4,
 "nbformat_minor": 5
}
