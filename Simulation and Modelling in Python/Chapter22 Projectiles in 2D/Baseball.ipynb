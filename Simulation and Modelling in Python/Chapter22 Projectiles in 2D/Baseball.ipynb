{
 "cells": [
  {
   "cell_type": "markdown",
   "id": "426431ab",
   "metadata": {},
   "source": [
    "To model the flight of a baseball, we have to make some modeling decisions.\n",
    "To get started, we ignore any spin that might be on the ball, and the resulting Magnus force (see https://en.wikipedia.org/wiki/Magnus_effect). Under this assumption, the ball travels in a vertical plane, so we’ll run simulations in two dimensions, rather than three.  \n",
    "\n",
    "Air resistance has a substantial effect on most projectiles in air, so we will include a drag force.  \n",
    "\n",
    "To model air resistance, we’ll need the mass, frontal area, and drag coefficient of a baseball. Mass and diameter are easy to find. Drag coefficient is only a little harder; according to *The Physics of Baseball*\n",
    ", the drag coefficient of a baseball is approximately 0.33 (with no\n",
    "units)."
   ]
  },
  {
   "cell_type": "code",
   "execution_count": 49,
   "id": "3c57c5a5",
   "metadata": {},
   "outputs": [],
   "source": [
    "from modsim_local import *\n",
    "import numpy\n",
    "from numpy import rad2deg\n",
    "from numpy import deg2rad\n",
    "from numpy import pi"
   ]
  },
  {
   "cell_type": "markdown",
   "id": "89eb08e8",
   "metadata": {},
   "source": [
    "Let’s simulate the flight of a baseball that is batted from home plate at an angle of 45° and initial speed 40 m/s. We’ll use the center of home plate as the origin, a horizontal x-axis (parallel to the ground), and a vertical y-axis (perpendicular to the ground). The initial height is 1 m.  \n",
    "\n",
    "Got the mass and diameter from this wikipedia page (https://en.wikipedia.org/wiki/Baseball_(ball))\n",
    "\n",
    "Here’s a `Params` object with the parameters we’ll need."
   ]
  },
  {
   "cell_type": "code",
   "execution_count": 50,
   "id": "1f3cd9a7",
   "metadata": {},
   "outputs": [],
   "source": [
    "params = Params(\n",
    "    x = 0,\n",
    "    y = 1,\n",
    "    angle = 45,\n",
    "    speed = 40,\n",
    "    \n",
    "    mass = 145e-3,\n",
    "    diameter = 73e-3,\n",
    "    C_d = 0.33,\n",
    "    \n",
    "    rho = 1.2,\n",
    "    g = 9.8,\n",
    "    t_end = 10,\n",
    ")"
   ]
  },
  {
   "cell_type": "markdown",
   "id": "b76f836b",
   "metadata": {},
   "source": [
    "`make_system` uses `deg2rad` to convert `angle` to radians and `pol2cart` to compute the and components of the initial velocity.  \n",
    "\n",
    "`init` is a `State` object with four state variables:  \n",
    "\n",
    "`x` and `y` are the components of position.  \n",
    "\n",
    "`vx` and `vy` are the components of velocity.  \n",
    "\n",
    "When we call `System`, we pass `params` as the first argument, which means that the variables in `params` are copied to the new `System` object."
   ]
  },
  {
   "cell_type": "code",
   "execution_count": 51,
   "id": "e718d345",
   "metadata": {},
   "outputs": [],
   "source": [
    "def make_system(params):\n",
    "    \n",
    "    #convert angle to radians\n",
    "    theta = deg2rad(params.angle)\n",
    "    \n",
    "    # compute x and y components of velocity\n",
    "    vx, vy = pol2cart(theta, params.speed)\n",
    "    \n",
    "    # make the initial state of the system\n",
    "    init = State(x = params.x, y = params.y, vx = vx, vy = vy)\n",
    "    \n",
    "    # compute the frontal area\n",
    "    area = pi*(params.diameter/2)**2\n",
    "    \n",
    "    return System(params, init = init, area = area)"
   ]
  },
  {
   "cell_type": "markdown",
   "id": "a9285915",
   "metadata": {},
   "source": [
    "Lets make the `System` object"
   ]
  },
  {
   "cell_type": "code",
   "execution_count": 52,
   "id": "14b793ce",
   "metadata": {},
   "outputs": [],
   "source": [
    "system = make_system(params)"
   ]
  },
  {
   "cell_type": "markdown",
   "id": "09fd6d27",
   "metadata": {},
   "source": [
    "And here is the initial state:"
   ]
  },
  {
   "cell_type": "code",
   "execution_count": 53,
   "id": "511ee682",
   "metadata": {},
   "outputs": [
    {
     "data": {
      "text/html": [
       "<div>\n",
       "<style scoped>\n",
       "    .dataframe tbody tr th:only-of-type {\n",
       "        vertical-align: middle;\n",
       "    }\n",
       "\n",
       "    .dataframe tbody tr th {\n",
       "        vertical-align: top;\n",
       "    }\n",
       "\n",
       "    .dataframe thead th {\n",
       "        text-align: right;\n",
       "    }\n",
       "</style>\n",
       "<table border=\"1\" class=\"dataframe\">\n",
       "  <thead>\n",
       "    <tr style=\"text-align: right;\">\n",
       "      <th></th>\n",
       "      <th>state</th>\n",
       "    </tr>\n",
       "  </thead>\n",
       "  <tbody>\n",
       "    <tr>\n",
       "      <th>x</th>\n",
       "      <td>0.000000</td>\n",
       "    </tr>\n",
       "    <tr>\n",
       "      <th>y</th>\n",
       "      <td>1.000000</td>\n",
       "    </tr>\n",
       "    <tr>\n",
       "      <th>vx</th>\n",
       "      <td>28.284271</td>\n",
       "    </tr>\n",
       "    <tr>\n",
       "      <th>vy</th>\n",
       "      <td>28.284271</td>\n",
       "    </tr>\n",
       "  </tbody>\n",
       "</table>\n",
       "</div>"
      ],
      "text/plain": [
       "        state\n",
       "x    0.000000\n",
       "y    1.000000\n",
       "vx  28.284271\n",
       "vy  28.284271"
      ]
     },
     "execution_count": 53,
     "metadata": {},
     "output_type": "execute_result"
    }
   ],
   "source": [
    "show(system.init)"
   ]
  },
  {
   "cell_type": "markdown",
   "id": "a8f8f9be",
   "metadata": {},
   "source": [
    "# Drag Force"
   ]
  },
  {
   "cell_type": "code",
   "execution_count": 54,
   "id": "db0f10a6",
   "metadata": {},
   "outputs": [],
   "source": [
    "def drag_force(V, system):\n",
    "    rho, C_d, area = system.rho, system.C_d, system.area\n",
    "    \n",
    "    mag = rho * vector_mag(V)**2 * C_d * area / 2\n",
    "    direction = -vector_hat(V)\n",
    "    f_drag = mag * direction\n",
    "    return f_drag"
   ]
  },
  {
   "cell_type": "markdown",
   "id": "8561e018",
   "metadata": {},
   "source": [
    "This function takes `V` as a `Vector` and returns `f_drag` as a Vector.\n",
    "\n",
    "It uses `vector_mag` to compute the magnitude of `V`, and the drag equation to compute the magnitude of the drag force, `mag`.\n",
    "\n",
    "Then it uses `vector_hat` to compute `direction`, which is a unit vector in the opposite direction of `V`.\n",
    "\n",
    "Finally, it computes the drag force vector by multiplying `mag` and `direction`."
   ]
  },
  {
   "cell_type": "code",
   "execution_count": 55,
   "id": "22522c8e",
   "metadata": {},
   "outputs": [
    {
     "data": {
      "text/html": [
       "<div>\n",
       "<style scoped>\n",
       "    .dataframe tbody tr th:only-of-type {\n",
       "        vertical-align: middle;\n",
       "    }\n",
       "\n",
       "    .dataframe tbody tr th {\n",
       "        vertical-align: top;\n",
       "    }\n",
       "\n",
       "    .dataframe thead th {\n",
       "        text-align: right;\n",
       "    }\n",
       "</style>\n",
       "<table border=\"1\" class=\"dataframe\">\n",
       "  <thead>\n",
       "    <tr style=\"text-align: right;\">\n",
       "      <th></th>\n",
       "      <th>component</th>\n",
       "    </tr>\n",
       "  </thead>\n",
       "  <tbody>\n",
       "    <tr>\n",
       "      <th>x</th>\n",
       "      <td>-0.937574</td>\n",
       "    </tr>\n",
       "    <tr>\n",
       "      <th>y</th>\n",
       "      <td>-0.937574</td>\n",
       "    </tr>\n",
       "  </tbody>\n",
       "</table>\n",
       "</div>"
      ],
      "text/plain": [
       "   component\n",
       "x  -0.937574\n",
       "y  -0.937574"
      ]
     },
     "execution_count": 55,
     "metadata": {},
     "output_type": "execute_result"
    }
   ],
   "source": [
    "vx, vy = system.init.vx, system.init.vy\n",
    "V_test = Vector(vx, vy)\n",
    "f_drag = drag_force(V_test, system)\n",
    "show(f_drag)"
   ]
  },
  {
   "cell_type": "markdown",
   "id": "67155465",
   "metadata": {},
   "source": [
    "The result is a `Vector` that represents the drag force on the baseball, in Newtons, under the initial conditions."
   ]
  },
  {
   "cell_type": "code",
   "execution_count": 56,
   "id": "21e89a90",
   "metadata": {},
   "outputs": [],
   "source": [
    "def slope_func(t, state, system):\n",
    "    x, y, vx, vy = state\n",
    "    mass, g = system.mass, system.g\n",
    "    \n",
    "    V = Vector(vx, vy)\n",
    "    a_drag = drag_force(V, system) / mass\n",
    "    a_grav = g * Vector(0, -1)\n",
    "    \n",
    "    A = a_grav + a_drag\n",
    "    \n",
    "    return V.x, V.y, A.x, A.y"
   ]
  },
  {
   "cell_type": "markdown",
   "id": "fb0968b5",
   "metadata": {},
   "source": [
    "As usual, the parameters of the slope function are a time stamp, a `State` object, and a `System` object. We don’t use `t` in this example, but we can’t leave it out because when `run_solve_ivp` calls the slope function, it always provides the same arguments, whether they are needed or not.\n",
    "\n",
    "`slope_func` unpacks the `State` object into variables `x`, `y`, `vx`, and `vy`. Then it packs vx and vy into a `Vector`, which it uses to compute acceleration due to drag, `a_drag`.\n",
    "\n",
    "To represent acceleration due to gravity, it makes a `Vector` with magnitude `g` in the negative direction.\n",
    "\n",
    "The total acceleration of the baseball, `A`, is the sum of accelerations due to gravity and drag.\n",
    "\n",
    "The return value is a sequence that contains:\n",
    "\n",
    "The components of velocity, `V.x` and `V.y`.\n",
    "\n",
    "The components of acceleration,`A.x` and `A.y`.\n",
    "\n",
    "These components represent the slope of the state variables, because `V` is the derivative of position and `A` is the derivative of velocity."
   ]
  },
  {
   "cell_type": "code",
   "execution_count": 57,
   "id": "d6a04f6f",
   "metadata": {},
   "outputs": [
    {
     "data": {
      "text/plain": [
       "(28.284271247461902,\n",
       " 28.284271247461902,\n",
       " -6.466030881564545,\n",
       " -16.266030881564546)"
      ]
     },
     "execution_count": 57,
     "metadata": {},
     "output_type": "execute_result"
    }
   ],
   "source": [
    "slope_func(0, system.init, system)"
   ]
  },
  {
   "cell_type": "markdown",
   "id": "c447aa94",
   "metadata": {},
   "source": [
    "# Adding an Event Function"
   ]
  },
  {
   "cell_type": "code",
   "execution_count": 58,
   "id": "366cf139",
   "metadata": {},
   "outputs": [],
   "source": [
    "def event_func(t, state, system):\n",
    "    x, y, vx, vy = state\n",
    "    return y"
   ]
  },
  {
   "cell_type": "markdown",
   "id": "b26a92a6",
   "metadata": {},
   "source": [
    "The event function takes the same parameters as the slope function, and returns the coordinate of position. When the coordinate passes through 0, the simulation stops.\n",
    "\n",
    "As we did with `slope_func`, we can test `event_func` with the initial conditions."
   ]
  },
  {
   "cell_type": "code",
   "execution_count": 59,
   "id": "1570bd69",
   "metadata": {},
   "outputs": [
    {
     "data": {
      "text/plain": [
       "1.0"
      ]
     },
     "execution_count": 59,
     "metadata": {},
     "output_type": "execute_result"
    }
   ],
   "source": [
    "event_func(0, system.init, system)"
   ]
  },
  {
   "cell_type": "markdown",
   "id": "a748f9b5",
   "metadata": {},
   "source": [
    "Now we run the simulation with the event function."
   ]
  },
  {
   "cell_type": "code",
   "execution_count": 60,
   "id": "2b2323d8",
   "metadata": {},
   "outputs": [
    {
     "data": {
      "text/plain": [
       "'A termination event occurred.'"
      ]
     },
     "execution_count": 60,
     "metadata": {},
     "output_type": "execute_result"
    }
   ],
   "source": [
    "results, details = run_solve_ivp(system, slope_func,\n",
    "                                 events=event_func)\n",
    "details.message"
   ]
  },
  {
   "cell_type": "markdown",
   "id": "507358cf",
   "metadata": {},
   "source": [
    "`results` is a `TimeFrame` with one row for each time step and one column for each of the state variables. Here are the first few rows."
   ]
  },
  {
   "cell_type": "code",
   "execution_count": 75,
   "id": "2972f91e",
   "metadata": {},
   "outputs": [
    {
     "data": {
      "text/html": [
       "<div>\n",
       "<style scoped>\n",
       "    .dataframe tbody tr th:only-of-type {\n",
       "        vertical-align: middle;\n",
       "    }\n",
       "\n",
       "    .dataframe tbody tr th {\n",
       "        vertical-align: top;\n",
       "    }\n",
       "\n",
       "    .dataframe thead th {\n",
       "        text-align: right;\n",
       "    }\n",
       "</style>\n",
       "<table border=\"1\" class=\"dataframe\">\n",
       "  <thead>\n",
       "    <tr style=\"text-align: right;\">\n",
       "      <th></th>\n",
       "      <th>x</th>\n",
       "      <th>y</th>\n",
       "      <th>vx</th>\n",
       "      <th>vy</th>\n",
       "    </tr>\n",
       "  </thead>\n",
       "  <tbody>\n",
       "    <tr>\n",
       "      <th>0.000000</th>\n",
       "      <td>0.000000</td>\n",
       "      <td>1.000000</td>\n",
       "      <td>28.284271</td>\n",
       "      <td>28.284271</td>\n",
       "    </tr>\n",
       "    <tr>\n",
       "      <th>0.050049</th>\n",
       "      <td>1.407582</td>\n",
       "      <td>2.395354</td>\n",
       "      <td>27.965687</td>\n",
       "      <td>27.477967</td>\n",
       "    </tr>\n",
       "    <tr>\n",
       "      <th>0.100098</th>\n",
       "      <td>2.799468</td>\n",
       "      <td>3.750738</td>\n",
       "      <td>27.656886</td>\n",
       "      <td>26.686774</td>\n",
       "    </tr>\n",
       "    <tr>\n",
       "      <th>0.150147</th>\n",
       "      <td>4.176142</td>\n",
       "      <td>5.066897</td>\n",
       "      <td>27.357457</td>\n",
       "      <td>25.910015</td>\n",
       "    </tr>\n",
       "    <tr>\n",
       "      <th>0.200195</th>\n",
       "      <td>5.538058</td>\n",
       "      <td>6.344527</td>\n",
       "      <td>27.067026</td>\n",
       "      <td>25.147065</td>\n",
       "    </tr>\n",
       "  </tbody>\n",
       "</table>\n",
       "</div>"
      ],
      "text/plain": [
       "                 x         y         vx         vy\n",
       "0.000000  0.000000  1.000000  28.284271  28.284271\n",
       "0.050049  1.407582  2.395354  27.965687  27.477967\n",
       "0.100098  2.799468  3.750738  27.656886  26.686774\n",
       "0.150147  4.176142  5.066897  27.357457  25.910015\n",
       "0.200195  5.538058  6.344527  27.067026  25.147065"
      ]
     },
     "execution_count": 75,
     "metadata": {},
     "output_type": "execute_result"
    }
   ],
   "source": [
    "results.head()"
   ]
  },
  {
   "cell_type": "code",
   "execution_count": 62,
   "id": "41183ff1",
   "metadata": {},
   "outputs": [
    {
     "data": {
      "text/plain": [
       "5.00488703486835"
      ]
     },
     "execution_count": 62,
     "metadata": {},
     "output_type": "execute_result"
    }
   ],
   "source": [
    "flight_time = results.index[-1]\n",
    "flight_time"
   ]
  },
  {
   "cell_type": "markdown",
   "id": "64e26f21",
   "metadata": {},
   "source": [
    "As we can see the flight time is around 5 seconds."
   ]
  },
  {
   "cell_type": "code",
   "execution_count": 63,
   "id": "8c946c05",
   "metadata": {},
   "outputs": [
    {
     "data": {
      "text/html": [
       "<div>\n",
       "<style scoped>\n",
       "    .dataframe tbody tr th:only-of-type {\n",
       "        vertical-align: middle;\n",
       "    }\n",
       "\n",
       "    .dataframe tbody tr th {\n",
       "        vertical-align: top;\n",
       "    }\n",
       "\n",
       "    .dataframe thead th {\n",
       "        text-align: right;\n",
       "    }\n",
       "</style>\n",
       "<table border=\"1\" class=\"dataframe\">\n",
       "  <thead>\n",
       "    <tr style=\"text-align: right;\">\n",
       "      <th></th>\n",
       "      <th>5.004887</th>\n",
       "    </tr>\n",
       "  </thead>\n",
       "  <tbody>\n",
       "    <tr>\n",
       "      <th>x</th>\n",
       "      <td>9.931830e+01</td>\n",
       "    </tr>\n",
       "    <tr>\n",
       "      <th>y</th>\n",
       "      <td>-1.065814e-14</td>\n",
       "    </tr>\n",
       "    <tr>\n",
       "      <th>vx</th>\n",
       "      <td>1.416589e+01</td>\n",
       "    </tr>\n",
       "    <tr>\n",
       "      <th>vy</th>\n",
       "      <td>-2.205876e+01</td>\n",
       "    </tr>\n",
       "  </tbody>\n",
       "</table>\n",
       "</div>"
      ],
      "text/plain": [
       "        5.004887\n",
       "x   9.931830e+01\n",
       "y  -1.065814e-14\n",
       "vx  1.416589e+01\n",
       "vy -2.205876e+01"
      ]
     },
     "execution_count": 63,
     "metadata": {},
     "output_type": "execute_result"
    }
   ],
   "source": [
    "final_state = results.iloc[-1]\n",
    "show(final_state)"
   ]
  },
  {
   "cell_type": "markdown",
   "id": "ef79eaa9",
   "metadata": {},
   "source": [
    "The final value of `y` signifies its height at the end of the time of flight, around 0, as it should be. The final value of `x` is around 99.31830 meters which signifies its horizontal distance covered."
   ]
  },
  {
   "cell_type": "code",
   "execution_count": 64,
   "id": "d49ee4bb",
   "metadata": {},
   "outputs": [
    {
     "data": {
      "text/plain": [
       "(99.3182962835221, -1.0658141036401503e-14)"
      ]
     },
     "execution_count": 64,
     "metadata": {},
     "output_type": "execute_result"
    }
   ],
   "source": [
    "x_dist = final_state.x\n",
    "y_dist = final_state.y\n",
    "x_dist, y_dist"
   ]
  },
  {
   "cell_type": "markdown",
   "id": "41ffc1f2",
   "metadata": {},
   "source": [
    "Converting horizontal and vertical component of the velocities to vectors."
   ]
  },
  {
   "cell_type": "code",
   "execution_count": 65,
   "id": "8e91e7f8",
   "metadata": {},
   "outputs": [
    {
     "data": {
      "text/html": [
       "<div>\n",
       "<style scoped>\n",
       "    .dataframe tbody tr th:only-of-type {\n",
       "        vertical-align: middle;\n",
       "    }\n",
       "\n",
       "    .dataframe tbody tr th {\n",
       "        vertical-align: top;\n",
       "    }\n",
       "\n",
       "    .dataframe thead th {\n",
       "        text-align: right;\n",
       "    }\n",
       "</style>\n",
       "<table border=\"1\" class=\"dataframe\">\n",
       "  <thead>\n",
       "    <tr style=\"text-align: right;\">\n",
       "      <th></th>\n",
       "      <th>component</th>\n",
       "    </tr>\n",
       "  </thead>\n",
       "  <tbody>\n",
       "    <tr>\n",
       "      <th>x</th>\n",
       "      <td>14.165894</td>\n",
       "    </tr>\n",
       "    <tr>\n",
       "      <th>y</th>\n",
       "      <td>-22.058763</td>\n",
       "    </tr>\n",
       "  </tbody>\n",
       "</table>\n",
       "</div>"
      ],
      "text/plain": [
       "   component\n",
       "x  14.165894\n",
       "y -22.058763"
      ]
     },
     "execution_count": 65,
     "metadata": {},
     "output_type": "execute_result"
    }
   ],
   "source": [
    "final_state = Vector(final_state.vx, final_state.vy)\n",
    "show(final_state)"
   ]
  },
  {
   "cell_type": "code",
   "execution_count": 66,
   "id": "a6d13b22",
   "metadata": {},
   "outputs": [
    {
     "data": {
      "text/plain": [
       "(26.215674453237597, -0.999931783197589)"
      ]
     },
     "execution_count": 66,
     "metadata": {},
     "output_type": "execute_result"
    }
   ],
   "source": [
    "vector_mag(final_state), vector_angle(final_state)"
   ]
  },
  {
   "cell_type": "markdown",
   "id": "3f41658a",
   "metadata": {},
   "source": [
    "The final speed is about 26 m/s, which is substantially slower than the initial speed, 40 m/s, due to air drag."
   ]
  },
  {
   "cell_type": "markdown",
   "id": "16ef0261",
   "metadata": {},
   "source": [
    "# Visualizing Trajectories"
   ]
  },
  {
   "cell_type": "code",
   "execution_count": 67,
   "id": "e8fb97cd",
   "metadata": {},
   "outputs": [
    {
     "data": {
      "image/png": "[encoded data removed]",
      "text/plain": [
       "<Figure size 450x300 with 1 Axes>"
      ]
     },
     "metadata": {},
     "output_type": "display_data"
    }
   ],
   "source": [
    "results.x.plot(color='C4')\n",
    "results.y.plot(color='C2', style='--')\n",
    "\n",
    "decorate(xlabel='Time (s)',\n",
    "         ylabel='Position (m)')"
   ]
  },
  {
   "cell_type": "code",
   "execution_count": 68,
   "id": "0bad05b4",
   "metadata": {},
   "outputs": [
    {
     "data": {
      "image/png": "[encoded data removed]",
      "text/plain": [
       "<Figure size 450x300 with 1 Axes>"
      ]
     },
     "metadata": {},
     "output_type": "display_data"
    }
   ],
   "source": [
    "def plot_trajectory(results):\n",
    "    x = results.x\n",
    "    y = results.y\n",
    "    make_series(x, y).plot(label='trajectory')\n",
    "\n",
    "    decorate(xlabel='x position (m)',\n",
    "             ylabel='y position (m)')\n",
    "\n",
    "plot_trajectory(results)"
   ]
  },
  {
   "cell_type": "code",
   "execution_count": 70,
   "id": "5f5561c8",
   "metadata": {},
   "outputs": [
    {
     "data": {
      "text/plain": [
       "-57.291870978212295"
      ]
     },
     "execution_count": 70,
     "metadata": {},
     "output_type": "execute_result"
    }
   ],
   "source": [
    "rad2deg(vector_angle(final_state))"
   ]
  },
  {
   "cell_type": "markdown",
   "id": "5824660d",
   "metadata": {},
   "source": [
    "# Animating the Baseball"
   ]
  },
  {
   "cell_type": "code",
   "execution_count": 71,
   "id": "e26f8573",
   "metadata": {},
   "outputs": [],
   "source": [
    "from matplotlib.pyplot import plot\n",
    "\n",
    "xlim = results.x.min(), results.x.max()\n",
    "ylim = results.y.min(), results.y.max()\n",
    "\n",
    "def draw_func(t, state):\n",
    "    plot(state.x, state.y, 'bo')\n",
    "    decorate(xlabel='x position (m)',\n",
    "             ylabel='y position (m)',\n",
    "             xlim=xlim,\n",
    "             ylim=ylim)"
   ]
  },
  {
   "cell_type": "code",
   "execution_count": 76,
   "id": "c3c59a38",
   "metadata": {},
   "outputs": [
    {
     "data": {
      "image/png": "[encoded data removed]",
      "text/plain": [
       "<Figure size 450x300 with 1 Axes>"
      ]
     },
     "metadata": {},
     "output_type": "display_data"
    }
   ],
   "source": [
    "animate(results, draw_func)"
   ]
  },
  {
   "cell_type": "markdown",
   "id": "0ad3ab54",
   "metadata": {},
   "source": [
    "# Summary"
   ]
  },
  {
   "cell_type": "markdown",
   "id": "7ddfb060",
   "metadata": {},
   "source": [
    "In this chapter I was introduced to `Vector` objects, which we use to represent position, velocity, and acceleration in two dimensions. We also represent forces using vectors, which make it easier to add up forces acting in different directions."
   ]
  },
  {
   "cell_type": "code",
   "execution_count": null,
   "id": "1239ec22",
   "metadata": {},
   "outputs": [],
   "source": []
  }
 ],
 "metadata": {
  "kernelspec": {
   "display_name": "Python 3",
   "language": "python",
   "name": "python3"
  },
  "language_info": {
   "codemirror_mode": {
    "name": "ipython",
    "version": 3
   },
   "file_extension": ".py",
   "mimetype": "text/x-python",
   "name": "python",
   "nbconvert_exporter": "python",
   "pygments_lexer": "ipython3",
   "version": "3.12.4"
  }
 },
 "nbformat": 4,
 "nbformat_minor": 5
}
