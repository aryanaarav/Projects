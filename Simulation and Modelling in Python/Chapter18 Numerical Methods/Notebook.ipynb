{
 "cells": [
  {
   "cell_type": "markdown",
   "id": "ce6a1bd5",
   "metadata": {},
   "source": [
    "### 18.1 Solving differential equations\n",
    "\n",
    "$$\\frac{dG(t)}{dt} = -k_1[G(t) - G_b] - X(t)G(t)$$"
   ]
  },
  {
   "cell_type": "markdown",
   "id": "4659b8b8",
   "metadata": {},
   "source": [
    "$$\\frac{dX}{dt} = k_3[I(t) - I_b] - k_2X(t)$$"
   ]
  },
  {
   "cell_type": "markdown",
   "id": "fa20276b",
   "metadata": {},
   "source": [
    "If we multiply both sides by dt, we have:"
   ]
  },
  {
   "cell_type": "markdown",
   "id": "3a8004ca",
   "metadata": {},
   "source": [
    "$$\n",
    "dG = \\left[-k_1 \\left[G(t) - G_b\\right] - X(t)G(t)\\right] dt  \n",
    "$$\n",
    "$$\n",
    "dX = \\left[k_3 \\left[I(t) - I_b\\right] - k_2X(t)\\right] dt\n",
    "$$"
   ]
  },
  {
   "cell_type": "code",
   "execution_count": null,
   "id": "4790f5a1",
   "metadata": {
    "vscode": {
     "languageId": "plaintext"
    }
   },
   "outputs": [],
   "source": []
  }
 ],
 "metadata": {
  "language_info": {
   "name": "python"
  }
 },
 "nbformat": 4,
 "nbformat_minor": 5
}
